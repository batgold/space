{
 "cells": [
  {
   "cell_type": "markdown",
   "metadata": {
    "slideshow": {
     "slide_type": "slide"
    }
   },
   "source": [
    "### Track Geo satellites!"
   ]
  },
  {
   "cell_type": "code",
   "execution_count": 1,
   "metadata": {
    "slideshow": {
     "slide_type": "skip"
    }
   },
   "outputs": [
    {
     "data": {
      "image/gif": "[encoded data removed]",
      "text/plain": [
       "<IPython.core.display.Image object>"
      ]
     },
     "execution_count": 1,
     "metadata": {},
     "output_type": "execute_result"
    }
   ],
   "source": [
    "from IPython.display import Image\n",
    "Image(filename='geo8.gif')"
   ]
  },
  {
   "cell_type": "markdown",
   "metadata": {},
   "source": [
    "This is how to show geo satellies"
   ]
  },
  {
   "cell_type": "code",
   "execution_count": 4,
   "metadata": {
    "slideshow": {
     "slide_type": "skip"
    }
   },
   "outputs": [
    {
     "ename": "ImportError",
     "evalue": "No module named 'coord_trans'",
     "output_type": "error",
     "traceback": [
      "\u001b[0;31m---------------------------------------------------------------------------\u001b[0m",
      "\u001b[0;31mImportError\u001b[0m                               Traceback (most recent call last)",
      "\u001b[0;32m<ipython-input-4-6353f7cab8f2>\u001b[0m in \u001b[0;36m<module>\u001b[0;34m\u001b[0m\n\u001b[1;32m      2\u001b[0m \u001b[0;32mimport\u001b[0m \u001b[0mpickle\u001b[0m\u001b[0;34m\u001b[0m\u001b[0m\n\u001b[1;32m      3\u001b[0m \u001b[0;32mimport\u001b[0m \u001b[0mnumpy\u001b[0m \u001b[0;32mas\u001b[0m \u001b[0mnmp\u001b[0m\u001b[0;34m\u001b[0m\u001b[0m\n\u001b[0;32m----> 4\u001b[0;31m \u001b[0;32mimport\u001b[0m \u001b[0mcoord_trans\u001b[0m\u001b[0;34m\u001b[0m\u001b[0m\n\u001b[0m\u001b[1;32m      5\u001b[0m \u001b[0;32mimport\u001b[0m \u001b[0mspace_track_api\u001b[0m \u001b[0;32mas\u001b[0m \u001b[0mapi\u001b[0m\u001b[0;34m\u001b[0m\u001b[0m\n\u001b[1;32m      6\u001b[0m \u001b[0;34m\u001b[0m\u001b[0m\n",
      "\u001b[0;31mImportError\u001b[0m: No module named 'coord_trans'"
     ]
    }
   ],
   "source": [
    "import sys\n",
    "import pickle\n",
    "import numpy as nmp\n",
    "import coord_trans\n",
    "import space_track_api as api\n",
    "\n",
    "from tqdm import tqdm\n",
    "from satellite import Satellite\n",
    "from satellite import RSGS\n",
    "from graph import Graph\n",
    "from graph import GraphFrame\n",
    "from datetime import datetime, timedelta"
   ]
  },
  {
   "cell_type": "markdown",
   "metadata": {},
   "source": [
    "Load local tle file\n",
    "\n",
    "Set input arguments:\n",
    "\n",
    "epoch start\n",
    "\n",
    "epoch end (relative time after)\n",
    "\n",
    "start longitude\n",
    "\n",
    "target name\n",
    "\n",
    "\n",
    "Epoch 0 is pulled from the TLE; gives the most accurate orbit\n",
    "\n",
    "Epoch 1 is the start time of the simulation\n",
    "\n",
    "Epoch 2 is the end time of the simulation"
   ]
  },
  {
   "cell_type": "code",
   "execution_count": null,
   "metadata": {},
   "outputs": [],
   "source": [
    "days = 0\n",
    "hours = 3\n",
    "epoch1 = datetime.utcnow()\n",
    "epoch2 = epoch1 + timedelta(days,0,0,0,0,hours)\n",
    "#datetime.timedelta([d,] [sec,] [microsec,] [msec,] [min,] [hr,] [week])\n",
    "\n",
    "lon0 = 160\n",
    "target_name = 'INTELSAT 19'"
   ]
  },
  {
   "cell_type": "markdown",
   "metadata": {},
   "source": [
    "load TLE file locally (normally done live via spacetrack.org)"
   ]
  },
  {
   "cell_type": "code",
   "execution_count": null,
   "metadata": {},
   "outputs": [],
   "source": [
    "with open('geo.tle', 'rb') as f:\n",
    "    tle_list = pickle.load(f)"
   ]
  },
  {
   "cell_type": "markdown",
   "metadata": {},
   "source": [
    "Calculate TLE orbits\n",
    "\n",
    "lon0 is the global starting point; defined by user\n",
    "\n",
    "lon1 is the tracked satellite's longitude\n",
    "\n",
    "lon2 is the global ending point; target's longitude"
   ]
  },
  {
   "cell_type": "code",
   "execution_count": null,
   "metadata": {},
   "outputs": [],
   "source": [
    "sat_list = [Satellite(epoch1, epoch2) for n in range(0, len(tle_list), 3)]\n",
    "\n",
    "for n, sat in enumerate(tqdm(sat_list, desc='Loading Satellites')):\n",
    "    tle = tle_list[n*3:n*3+3]\n",
    "    sat.load_tle(tle)\n",
    "\n",
    "    if target_name in sat.name:\n",
    "        sat.type = 'target'\n",
    "        sat_target = sat"
   ]
  },
  {
   "cell_type": "markdown",
   "metadata": {
    "slideshow": {
     "slide_type": "-"
    }
   },
   "source": [
    "Parse out only objects in specified region"
   ]
  },
  {
   "cell_type": "code",
   "execution_count": null,
   "metadata": {},
   "outputs": [],
   "source": [
    "lon2 = sat_target.lon[0]\n",
    "lon0 = lon0 - nmp.sign(lon0)*2\n",
    "lon2 = lon2 - nmp.sign(lon2)*2\n",
    "\n",
    "tmp_list = []\n",
    "for n, sat in enumerate(sat_list):\n",
    "    lon1 = sat.lon[0]\n",
    "\n",
    "    if (lon1 >= lon0 and lon1 <= lon2 and lon2 > lon0) \\\n",
    "    or (lon1 <= lon0 and lon1 >= lon2 and lon2 < lon0):\n",
    "        tmp_list.append(sat)\n",
    "\n",
    "sat_list = tmp_list"
   ]
  },
  {
   "cell_type": "markdown",
   "metadata": {},
   "source": [
    "ADD RSGS"
   ]
  },
  {
   "cell_type": "code",
   "execution_count": null,
   "metadata": {},
   "outputs": [],
   "source": [
    "rsgs = RSGS(epoch1, epoch2)\n",
    "rsgs.set_params(lon0, lon2)\n",
    "sat_list.append(rsgs)"
   ]
  },
  {
   "cell_type": "markdown",
   "metadata": {},
   "source": [
    "Calculate motion for all epochs"
   ]
  },
  {
   "cell_type": "code",
   "execution_count": null,
   "metadata": {},
   "outputs": [],
   "source": [
    "for n, sat in enumerate(tqdm(sat_list, desc='Computing Motion')):\n",
    "    sat.get_motion()\n",
    "    sat.get_range(rsgs)"
   ]
  },
  {
   "cell_type": "markdown",
   "metadata": {},
   "source": [
    "Calculate frames for 3D animation"
   ]
  },
  {
   "cell_type": "code",
   "execution_count": null,
   "metadata": {},
   "outputs": [],
   "source": [
    "frame_cnt = sat_list[0].sim_cnt\n",
    "frame_list = [GraphFrame(sat_list) for n in range(frame_cnt)]\n",
    "\n",
    "for n, frame in enumerate(tqdm(frame_list, desc='Building Frames')):\n",
    "    frame.load_data(n)"
   ]
  },
  {
   "cell_type": "markdown",
   "metadata": {},
   "source": [
    "print results and graph"
   ]
  },
  {
   "cell_type": "code",
   "execution_count": null,
   "metadata": {
    "scrolled": false,
    "slideshow": {
     "slide_type": "fragment"
    }
   },
   "outputs": [],
   "source": [
    "import numpy as nmp\n",
    "import matplotlib.pyplot as plt\n",
    "import matplotlib.gridspec as grs\n",
    "import matplotlib.animation as animation\n",
    "from mpl_toolkits.mplot3d import Axes3D\n",
    "\n",
    "class Graph():\n",
    "\n",
    "    def __init__(self, frame_list, lon0, lon2, epoch1):\n",
    "        self.frame_list = frame_list\n",
    "        self.lon0 = lon0\n",
    "        self.lon2 = lon2\n",
    "        self.epoch1 = epoch1\n",
    "        self.fig, self.ax, self.txt = self._setup_fig()\n",
    "        self.frame_cnt = len(self.frame_list)\n",
    "\n",
    "    def _setup_fig(self):\n",
    "        gs = grs.GridSpec(1, 2, width_ratios=[5,1])\n",
    "        fig = plt.figure()\n",
    "        fig.set_size_inches(10, 8, True)\n",
    "        ax = fig.add_subplot(gs[0], projection='3d')\n",
    "        ax2 = fig.add_subplot(gs[-1])\n",
    "        plt.axis('off')\n",
    "        ax.xaxis.pane.fill = False\n",
    "        ax.yaxis.pane.fill = False\n",
    "        ax.zaxis.pane.fill = False\n",
    "        return fig, ax, ax2\n",
    "\n",
    "    def run(self):\n",
    "        ani = animation.FuncAnimation(\n",
    "                fig=self.fig,\n",
    "                init_func=self._init_graph,\n",
    "                func=self._update_graph,\n",
    "                frames=self.frame_cnt,\n",
    "                interval=600)\n",
    "\n",
    "        plt.tight_layout(pad=0)\n",
    "        plt.show()\n",
    "        #ani.save('orb3.gif', writer='imagemagick', fps=10, dpi=128)\n",
    "\n",
    "    def _init_graph(self):\n",
    "        self.ax.set_xlabel('Latitude, $\\circ$E')\n",
    "        self.ax.set_ylabel('Longitude, $\\circ$E')\n",
    "        self.ax.set_zlabel('Altitude, km')\n",
    "        self.ax.set_xlim3d(-15,15)\n",
    "        self.ax.set_zlim3d(35600,36100)\n",
    "        if self.lon2 > self.lon0:\n",
    "            self.ax.set_ylim3d(self.lon0-2, self.lon2+2)\n",
    "        else:\n",
    "            self.ax.set_ylim3d(self.lon0+2, self.lon2-2)\n",
    "        self.txt.axis('off')\n",
    "\n",
    "    def _update_graph(self, f):\n",
    "        frame = self.frame_list[f]\n",
    "\n",
    "        self.ax.clear()\n",
    "        self.txt.clear()\n",
    "        self._init_graph()\n",
    "\n",
    "        self._update_sats(frame)\n",
    "        self._update_text(frame)\n",
    "\n",
    "    def _update_sats(self, frame):\n",
    "        for n in range(len(frame.lon)):\n",
    "            x, y, z, s, c, m, name = frame.get_params(n)\n",
    "\n",
    "            center = (self.lon2+self.lon0)/2\n",
    "            self.ax.scatter(x, y, z, s=s, c=c, marker=m)\n",
    "            self.ax.text(x, y, z+10, '%s'%(name), size=5, zorder=1)\n",
    "\n",
    "    def _update_text(self, frame):\n",
    "        self.txt.text(-0.1,0.92,'Epoch Start:', size=8)\n",
    "        self.txt.text(0,0.90,'%s'%(self.epoch1), size=8)\n",
    "        self.txt.text(-0.1,0.82,'Mission Time:', size=8)\n",
    "        self.txt.text(0,0.8,'%.2f hr'%(frame.mission_time), size=8)\n",
    "        self.txt.text(-0.1,0.72,'Range to Object, km:', size=8)\n",
    "\n",
    "        for n, r in enumerate(frame.range[0:10]):\n",
    "            name = frame.name_sorted[n]\n",
    "            color = frame.range_color[n]\n",
    "            self.txt.text(0, 0.7-n*0.015,'%.2f'%(r), size=8, color=color)\n",
    "            self.txt.text(0.25, 0.7-n*0.015,'%s'%(name), size=8, color=color)\n",
    "\n",
    "class GraphFrame():\n",
    "\n",
    "    def __init__(self, sat_list):\n",
    "        self.sat_list = sat_list\n",
    "        self.dt = self.sat_list[0].dt\n",
    "        self.lat = []\n",
    "        self.lon = []\n",
    "        self.alt = []\n",
    "        self.size = []\n",
    "        self.name = []\n",
    "        self.color = []\n",
    "        self.range = []\n",
    "        self.marker = []\n",
    "        self.mission_time = 0\n",
    "\n",
    "    def load_data(self, epoch):\n",
    "\n",
    "        self.mission_time = epoch * self.dt / 3600  # days\n",
    "\n",
    "        for sat in self.sat_list:\n",
    "            self.name.append(sat.name[2:])      # remove leading zero\n",
    "            self.lat.append(sat.lat[epoch])\n",
    "            self.lon.append(sat.lon[epoch])\n",
    "            self.alt.append(sat.alt[epoch])\n",
    "            self.range.append(sat.range[epoch])\n",
    "\n",
    "            if sat.type == 'RB':\n",
    "                self.size.append(30)\n",
    "                self.color.append('r')\n",
    "                self.marker.append('^')\n",
    "            elif sat.type == 'RSGS':\n",
    "                self.size.append(60)\n",
    "                self.color.append('b')\n",
    "                self.marker.append('s')\n",
    "            elif sat.type == 'target':\n",
    "                #self.name[-1] = 'RSO-1'\n",
    "                self.size.append(40)\n",
    "                self.color.append('C2')\n",
    "                self.marker.append('o')\n",
    "            else:\n",
    "                self.size.append(16)\n",
    "                self.color.append('C0')\n",
    "                self.marker.append('o')\n",
    "\n",
    "        self.range, self.name_sorted = zip(*sorted(zip(self.range,self.name)))\n",
    "        self.range = self.range[1:]             # Remove RSGS from List\n",
    "        self.name_sorted = self.name_sorted[1:]\n",
    "\n",
    "        red_lim = 250\n",
    "        yel_lim = 500\n",
    "        self.range_color = ['C3' if r < red_lim else 'C4' if r < yel_lim else 'C0' for r in self.range]\n",
    "\n",
    "    def get_params(self, n):\n",
    "        return [self.lat[n],\n",
    "                self.lon[n],\n",
    "                self.alt[n],\n",
    "                self.size[n],\n",
    "                self.color[n],\n",
    "                self.marker[n],\n",
    "                self.name[n]]\n"
   ]
  },
  {
   "cell_type": "code",
   "execution_count": null,
   "metadata": {},
   "outputs": [],
   "source": []
  }
 ],
 "metadata": {
  "celltoolbar": "Slideshow",
  "kernelspec": {
   "display_name": "Python 3",
   "language": "python",
   "name": "python3"
  },
  "language_info": {
   "codemirror_mode": {
    "name": "ipython",
    "version": 3
   },
   "file_extension": ".py",
   "mimetype": "text/x-python",
   "name": "python",
   "nbconvert_exporter": "python",
   "pygments_lexer": "ipython3",
   "version": "3.5.2"
  }
 },
 "nbformat": 4,
 "nbformat_minor": 2
}
